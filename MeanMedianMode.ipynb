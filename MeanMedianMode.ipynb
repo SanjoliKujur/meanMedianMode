{
 "cells": [
  {
   "cell_type": "code",
   "execution_count": 3,
   "id": "05235fd6",
   "metadata": {},
   "outputs": [],
   "source": [
    "import csv "
   ]
  },
  {
   "cell_type": "code",
   "execution_count": 4,
   "id": "54cffbe9",
   "metadata": {},
   "outputs": [],
   "source": [
    "with open(\"C:\\Users\\sanjo\\Desktop\\mean median mode\\SOCR-HeightWeight.csv\") as f:\n",
    "    csv_reader = csv.reader(f)\n",
    "    data = list(csv_reader)"
   ]
  },
  {
   "cell_type": "code",
   "execution_count": 5,
   "id": "4734564e",
   "metadata": {},
   "outputs": [
    {
     "data": {
      "text/plain": [
       "['ï»¿Index', 'Height(Inches)', 'Weight(Pounds)']"
      ]
     },
     "execution_count": 5,
     "metadata": {},
     "output_type": "execute_result"
    }
   ],
   "source": [
    "data.pop(0)"
   ]
  },
  {
   "cell_type": "code",
   "execution_count": 6,
   "id": "cb1876cf",
   "metadata": {},
   "outputs": [],
   "source": [
    "height = []\n",
    "for i in data :\n",
    "    height.append(float(i[1]))"
   ]
  },
  {
   "cell_type": "markdown",
   "id": "aec623ed",
   "metadata": {},
   "source": [
    "# Mean"
   ]
  },
  {
   "cell_type": "code",
   "execution_count": 7,
   "id": "0a2062aa",
   "metadata": {},
   "outputs": [],
   "source": [
    "sum = 0\n",
    "for i in height:\n",
    "    sum = sum + i\n",
    "n=len(height)"
   ]
  },
  {
   "cell_type": "code",
   "execution_count": 8,
   "id": "0c7c4680",
   "metadata": {},
   "outputs": [],
   "source": [
    "mean = sum/n"
   ]
  },
  {
   "cell_type": "code",
   "execution_count": 9,
   "id": "da78b084",
   "metadata": {},
   "outputs": [
    {
     "data": {
      "text/plain": [
       "67.99311359679979"
      ]
     },
     "execution_count": 9,
     "metadata": {},
     "output_type": "execute_result"
    }
   ],
   "source": [
    "mean"
   ]
  },
  {
   "cell_type": "markdown",
   "id": "7f99eb6a",
   "metadata": {},
   "source": [
    "# Median\n"
   ]
  },
  {
   "cell_type": "code",
   "execution_count": 10,
   "id": "13bc6296",
   "metadata": {},
   "outputs": [],
   "source": [
    "height.sort()"
   ]
  },
  {
   "cell_type": "code",
   "execution_count": 11,
   "id": "e24398f1",
   "metadata": {},
   "outputs": [],
   "source": [
    "if n%2==0:\n",
    "    median1 = height[n//2]\n",
    "    median2 = height[(n//2)-1]\n",
    "    median = (median1 + median2)/2\n",
    "else:\n",
    "    median = height[n//2]\n",
    "    "
   ]
  },
  {
   "cell_type": "code",
   "execution_count": 12,
   "id": "c046dc49",
   "metadata": {},
   "outputs": [
    {
     "data": {
      "text/plain": [
       "67.9957"
      ]
     },
     "execution_count": 12,
     "metadata": {},
     "output_type": "execute_result"
    }
   ],
   "source": [
    "median"
   ]
  },
  {
   "cell_type": "markdown",
   "id": "94bc90bb",
   "metadata": {},
   "source": [
    "# Mode\n"
   ]
  },
  {
   "cell_type": "code",
   "execution_count": 13,
   "id": "c5218c07",
   "metadata": {},
   "outputs": [],
   "source": [
    "from collections import Counter\n"
   ]
  },
  {
   "cell_type": "code",
   "execution_count": 14,
   "id": "a6b294c4",
   "metadata": {},
   "outputs": [],
   "source": [
    "occurence = 0\n",
    "mode = 0"
   ]
  },
  {
   "cell_type": "code",
   "execution_count": 15,
   "id": "d564b0a8",
   "metadata": {},
   "outputs": [],
   "source": [
    "x = Counter(height)"
   ]
  },
  {
   "cell_type": "code",
   "execution_count": 16,
   "id": "d22920a3",
   "metadata": {},
   "outputs": [],
   "source": [
    "for i in x.items() :\n",
    "    if i[1]>occurence:\n",
    "        occurence = i[1]\n",
    "        mode = i[0]\n",
    "    "
   ]
  },
  {
   "cell_type": "code",
   "execution_count": 17,
   "id": "3e221357",
   "metadata": {},
   "outputs": [
    {
     "data": {
      "text/plain": [
       "65.65796"
      ]
     },
     "execution_count": 17,
     "metadata": {},
     "output_type": "execute_result"
    }
   ],
   "source": [
    "mode"
   ]
  },
  {
   "cell_type": "code",
   "execution_count": 18,
   "id": "bb4b6f23",
   "metadata": {},
   "outputs": [
    {
     "data": {
      "text/plain": [
       "3"
      ]
     },
     "execution_count": 18,
     "metadata": {},
     "output_type": "execute_result"
    }
   ],
   "source": [
    "occurence"
   ]
  },
  {
   "cell_type": "code",
   "execution_count": 22,
   "id": "fbedf177",
   "metadata": {},
   "outputs": [],
   "source": [
    "import statistics\n"
   ]
  },
  {
   "cell_type": "code",
   "execution_count": 23,
   "id": "3c7b4c25",
   "metadata": {},
   "outputs": [
    {
     "data": {
      "text/plain": [
       "67.9931135968"
      ]
     },
     "execution_count": 23,
     "metadata": {},
     "output_type": "execute_result"
    }
   ],
   "source": [
    "statistics.mean(height)"
   ]
  },
  {
   "cell_type": "code",
   "execution_count": 24,
   "id": "48ca9505",
   "metadata": {},
   "outputs": [
    {
     "data": {
      "text/plain": [
       "67.9957"
      ]
     },
     "execution_count": 24,
     "metadata": {},
     "output_type": "execute_result"
    }
   ],
   "source": [
    "statistics.median(height)"
   ]
  },
  {
   "cell_type": "code",
   "execution_count": 25,
   "id": "4aa70b7e",
   "metadata": {},
   "outputs": [
    {
     "data": {
      "text/plain": [
       "65.65796"
      ]
     },
     "execution_count": 25,
     "metadata": {},
     "output_type": "execute_result"
    }
   ],
   "source": [
    "statistics.mode(height)"
   ]
  },
  {
   "cell_type": "code",
   "execution_count": null,
   "id": "bc037f66",
   "metadata": {},
   "outputs": [],
   "source": []
  }
 ],
 "metadata": {
  "kernelspec": {
   "display_name": "Python 3 (ipykernel)",
   "language": "python",
   "name": "python3"
  },
  "language_info": {
   "codemirror_mode": {
    "name": "ipython",
    "version": 3
   },
   "file_extension": ".py",
   "mimetype": "text/x-python",
   "name": "python",
   "nbconvert_exporter": "python",
   "pygments_lexer": "ipython3",
   "version": "3.9.7"
  }
 },
 "nbformat": 4,
 "nbformat_minor": 5
}
